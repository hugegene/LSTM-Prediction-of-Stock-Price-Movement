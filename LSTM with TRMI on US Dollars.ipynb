{
 "cells": [
  {
   "cell_type": "markdown",
   "metadata": {
    "colab_type": "text",
    "id": "dIF_jv42m9pH"
   },
   "source": [
    "# Quant Machine Learning Research on USD (LSTM to Make Trading Decisions)"
   ]
  },
  {
   "cell_type": "markdown",
   "metadata": {
    "colab_type": "text",
    "id": "hOXobOBeKwDe"
   },
   "source": [
    "## 1 Objective and Overview\n",
    "\n",
    "A supervised learning was done to make trading decisions (No-Buy or Buy) for USD using USD's past price and MarketRisk TRMI.\n",
    "\n",
    "The supervised model used was LSTM.  \n"
   ]
  },
  {
   "cell_type": "markdown",
   "metadata": {
    "colab_type": "text",
    "id": "mPEtY17IU0Qs"
   },
   "source": [
    "## 1.1 Splitting Train-Validate-Test Set\n",
    "\n",
    "1. Train from 2017-06-01 till 2018-05-31 (A to B)\n",
    "2. Validate from 2018-06-01 till 2018-07-31 (B to C)\n",
    "3. Test from 2018-01-01 till 2018-12-08 (note that in the code the test set is set from A to D so that the model can build memory from A to C, and start testing from C to D)\n",
    "\n"
   ]
  },
  {
   "cell_type": "markdown",
   "metadata": {},
   "source": [
    "![alt text](train-validate-test.JPG)"
   ]
  },
  {
   "cell_type": "markdown",
   "metadata": {
    "colab_type": "text",
    "id": "adhfsvZuGZWh"
   },
   "source": [
    "## 1.2 Experiments\n",
    "\n",
    "2 experiments were done for comparison.\n",
    "\n",
    "**Experiment 1**\n",
    "\n",
    "Binary Prediction (True or False) was done with Binary Log Loss to predict Buy or Not-Buy trading decisions. Trading decisions were manually labelled 0(No-Buy) or 1(Buy) at each day based on whether the price of the stock will rise at the next closing price.\n",
    "\n",
    "**Experiment 2**\n",
    "\n",
    "Next day real returns (continuous returns value) were predicted with Mean Square Error to make Buy-or Not-Buy trading decisions."
   ]
  },
  {
   "cell_type": "markdown",
   "metadata": {
    "colab_type": "text",
    "id": "PCC2x8HuU4Y3"
   },
   "source": [
    "## 1.3 Feature Engineering"
   ]
  },
  {
   "cell_type": "markdown",
   "metadata": {},
   "source": [
    "![alt text](USDprice.png)"
   ]
  },
  {
   "cell_type": "markdown",
   "metadata": {
    "colab_type": "text",
    "id": "NHFZ6CcMVDaX"
   },
   "source": [
    "USD price was overlayed with various TRMIs moving averages and the 30-days MarketRisk moving average seems to co-related well with the price visually. As such, the following was feature-enginnered as the input to the LSTM model for all the experiments:\n",
    "\n",
    "1. MarketRisk\n",
    "2. 7-day MarketRisk moving-average\n",
    "3. 30-day MarketRisk moving-average\n",
    "4. R1 (Closing Price t - Closing Price t-1)\n",
    "5. R7 (Closing Price t - Closing Price t-7)\n",
    "\n",
    "## 1.4 Evaluation Metrics\n",
    "\n",
    "The evaluation metrics are:\n",
    "1. F1 score\n",
    "2. Accuracy\n",
    "3. Profit and Loss\n",
    "\n",
    "## 2 Evaluation\n",
    "\n",
    "The results are at the end of the report.\n",
    "\n",
    "## 2.1 Evaluation of Experiment 1 and 2\n",
    "\n",
    "**Experiment 1**\n",
    "\n",
    "After multiple tries, the results show that it is not able to produce result most of the time as depicted at the end of the report. Not producing result would mean that the machine did not learn much at all and predicts all Buy or Not-Buy results. As such, it could be concluded that under this report's setting, the Binary Log Loss function could not optimise the model.\n",
    "\n",
    "**Experiment 2**\n",
    "\n",
    "After multiple tries, the results show that it is able to produce results most of the time as shown at the end of the report, with a Mean Square Error (MSE) of 0.00001 in prediction. MSE of 0.00001 means a Root MSE of 0.0031 which means that the average returns prediction is 0.0031 off. The directions of prediction are often not right too, resulting in low F1 score. However, It can be concluded that under this report's setting, Mean Square Error function is able to optimise the model fairly well."
   ]
  },
  {
   "cell_type": "markdown",
   "metadata": {
    "colab_type": "text",
    "id": "p1nongBRVFzR"
   },
   "source": [
    "##  3 Codes"
   ]
  },
  {
   "cell_type": "code",
   "execution_count": 207,
   "metadata": {
    "colab": {
     "base_uri": "https://localhost:8080/",
     "height": 38,
     "resources": {
      "http://localhost:8080/nbextensions/google.colab/files.js": {
       "data": "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",
       "headers": [
        [
         "content-type",
         "application/javascript"
        ]
       ],
       "ok": true,
       "status": 200,
       "status_text": ""
      }
     }
    },
    "colab_type": "code",
    "id": "7qHBVmabJWCD",
    "outputId": "1efd29d9-cd6b-482d-e1aa-84fc0ececc43"
   },
   "outputs": [
    {
     "data": {
      "text/html": [
       "\n",
       "     <input type=\"file\" id=\"files-331ec218-819a-48ca-89eb-90bcd907f41e\" name=\"files[]\" multiple disabled />\n",
       "     <output id=\"result-331ec218-819a-48ca-89eb-90bcd907f41e\">\n",
       "      Upload widget is only available when the cell has been executed in the\n",
       "      current browser session. Please rerun this cell to enable.\n",
       "      </output>\n",
       "      <script src=\"/nbextensions/google.colab/files.js\"></script> "
      ],
      "text/plain": [
       "<IPython.core.display.HTML object>"
      ]
     },
     "metadata": {
      "tags": []
     },
     "output_type": "display_data"
    }
   ],
   "source": [
    "from google.colab import files\n",
    "uploaded = files.upload()"
   ]
  },
  {
   "cell_type": "code",
   "execution_count": 208,
   "metadata": {
    "colab": {
     "base_uri": "https://localhost:8080/",
     "height": 35
    },
    "colab_type": "code",
    "id": "HGRXzvUR0X11",
    "outputId": "4a1d91f2-7f22-4162-e4de-5429f5f0887e"
   },
   "outputs": [
    {
     "name": "stdout",
     "output_type": "stream",
     "text": [
      "best.h5  sample_data  USDprices.csv  USDSentiment.csv\n"
     ]
    }
   ],
   "source": [
    "!ls"
   ]
  },
  {
   "cell_type": "code",
   "execution_count": null,
   "metadata": {
    "colab": {},
    "colab_type": "code",
    "id": "MxvJZZarlEe6"
   },
   "outputs": [],
   "source": [
    "from math import sqrt\n",
    "from numpy import concatenate\n",
    "from matplotlib import pyplot as plt\n",
    "from pandas import read_csv\n",
    "from pandas import DataFrame\n",
    "from pandas import concat\n",
    "from sklearn.preprocessing import MinMaxScaler\n",
    "from sklearn.preprocessing import LabelEncoder\n",
    "from sklearn.metrics import mean_squared_error\n",
    "from keras.models import Sequential\n",
    "from keras.layers import Dense, Activation, LSTM\n",
    "from keras.callbacks import ModelCheckpoint\n",
    "from keras.callbacks import EarlyStopping\n",
    "from keras.models import model_from_json\n",
    "from sklearn.metrics import confusion_matrix\n",
    "from sklearn.metrics import accuracy_score\n",
    "from datetime import datetime\n",
    "import os\n",
    "import itertools\n",
    "import pandas as pd\n",
    "import numpy as np\n",
    "from sklearn.metrics import f1_score\n",
    "from sklearn.metrics import precision_score\n",
    "from sklearn.metrics import recall_score\n",
    "from keras.layers import Input, LSTM, RepeatVector, Lambda\n",
    "from keras.models import Model\n",
    "from keras import backend as K"
   ]
  },
  {
   "cell_type": "markdown",
   "metadata": {
    "colab_type": "text",
    "id": "H0U6XhwlpraX"
   },
   "source": [
    "## 3.1 Data Preparation"
   ]
  },
  {
   "cell_type": "code",
   "execution_count": 368,
   "metadata": {
    "colab": {
     "base_uri": "https://localhost:8080/",
     "height": 241
    },
    "colab_type": "code",
    "id": "CNggyVu2lcl4",
    "outputId": "efc1fa21-efee-428d-e388-15b5e2fb5414"
   },
   "outputs": [
    {
     "name": "stdout",
     "output_type": "stream",
     "text": [
      "5448\n"
     ]
    },
    {
     "data": {
      "text/html": [
       "<div>\n",
       "<style scoped>\n",
       "    .dataframe tbody tr th:only-of-type {\n",
       "        vertical-align: middle;\n",
       "    }\n",
       "\n",
       "    .dataframe tbody tr th {\n",
       "        vertical-align: top;\n",
       "    }\n",
       "\n",
       "    .dataframe thead th {\n",
       "        text-align: right;\n",
       "    }\n",
       "</style>\n",
       "<table border=\"1\" class=\"dataframe\">\n",
       "  <thead>\n",
       "    <tr style=\"text-align: right;\">\n",
       "      <th></th>\n",
       "      <th>Close</th>\n",
       "      <th>marketRisk</th>\n",
       "      <th>returns</th>\n",
       "      <th>Target</th>\n",
       "      <th>Signal</th>\n",
       "    </tr>\n",
       "    <tr>\n",
       "      <th>Date</th>\n",
       "      <th></th>\n",
       "      <th></th>\n",
       "      <th></th>\n",
       "      <th></th>\n",
       "      <th></th>\n",
       "    </tr>\n",
       "  </thead>\n",
       "  <tbody>\n",
       "    <tr>\n",
       "      <th>1998-01-02</th>\n",
       "      <td>0.912825</td>\n",
       "      <td>0.025381</td>\n",
       "      <td>NaN</td>\n",
       "      <td>0.010536</td>\n",
       "      <td>True</td>\n",
       "    </tr>\n",
       "    <tr>\n",
       "      <th>1998-01-05</th>\n",
       "      <td>0.923361</td>\n",
       "      <td>0.084337</td>\n",
       "      <td>0.011542</td>\n",
       "      <td>0.002308</td>\n",
       "      <td>True</td>\n",
       "    </tr>\n",
       "    <tr>\n",
       "      <th>1998-01-06</th>\n",
       "      <td>0.925669</td>\n",
       "      <td>0.045999</td>\n",
       "      <td>0.002499</td>\n",
       "      <td>-0.002393</td>\n",
       "      <td>False</td>\n",
       "    </tr>\n",
       "    <tr>\n",
       "      <th>1998-01-07</th>\n",
       "      <td>0.923276</td>\n",
       "      <td>0.019864</td>\n",
       "      <td>-0.002585</td>\n",
       "      <td>-0.000596</td>\n",
       "      <td>False</td>\n",
       "    </tr>\n",
       "    <tr>\n",
       "      <th>1998-01-08</th>\n",
       "      <td>0.922679</td>\n",
       "      <td>0.014743</td>\n",
       "      <td>-0.000646</td>\n",
       "      <td>0.000682</td>\n",
       "      <td>True</td>\n",
       "    </tr>\n",
       "  </tbody>\n",
       "</table>\n",
       "</div>"
      ],
      "text/plain": [
       "               Close  marketRisk   returns    Target  Signal\n",
       "Date                                                        \n",
       "1998-01-02  0.912825    0.025381       NaN  0.010536    True\n",
       "1998-01-05  0.923361    0.084337  0.011542  0.002308    True\n",
       "1998-01-06  0.925669    0.045999  0.002499 -0.002393   False\n",
       "1998-01-07  0.923276    0.019864 -0.002585 -0.000596   False\n",
       "1998-01-08  0.922679    0.014743 -0.000646  0.000682    True"
      ]
     },
     "execution_count": 368,
     "metadata": {
      "tags": []
     },
     "output_type": "execute_result"
    }
   ],
   "source": [
    "##Read in Price data, use date as index\n",
    "Prices = pd.read_csv(\"USDprices.csv\")\n",
    "Prices.head()\n",
    "Prices['Date'].dtype\n",
    "Prices['Date'] = pd.to_datetime(Prices['Date'], format='%Y-%m-%d')\n",
    "Prices.head()\n",
    "Prices.index = Prices['Date']\n",
    "# print(Prices.head())\n",
    "\n",
    "#Reading in Sentiment Data and selecting News-only-MarketRisk Sentiment\n",
    "Sent = pd.read_csv(\"USDSentiment.csv\")\n",
    "Sent = Sent[Sent.dataType=='News'][['Date', 'marketRisk']].fillna(method = \"ffill\")\n",
    "# Sent.head()\n",
    "Sent['Date'] = pd.to_datetime(Sent['Date'], format='%Y-%m-%d')\n",
    "Sent.index = Sent['Date']\n",
    "# print(Sent.head())\n",
    "\n",
    "#Combining Price table and Sentiment Table\n",
    "Ana = Prices.merge(Sent, left_index= True, right_index=True, how='inner')\n",
    "Ana.head()\n",
    "Ana.columns\n",
    "Ana = Ana.drop(columns=['Unnamed: 0', 'Volume', 'Asset', 'Date_x', 'Date_y', 'Open', 'High', 'Low', 'UnadjClose'])\n",
    "Ana.head()\n",
    "\n",
    "# calculating r, %tage change of closing price over previous time step\n",
    "Ana['returns'] = (Ana['Close']- Ana['Close'].shift(1))/Ana['Close'].shift(1)\n",
    "Ana.head()\n",
    "\n",
    "# calculating target price\n",
    "Ana['Target'] = Ana[\"Close\"].diff(1).shift(-1)\n",
    "Ana.head()\n",
    "\n",
    "## Label each time step False(no-buy) or True(buy) based on whether the price will rise at the next closing price\n",
    "timestep = 1\n",
    "labels = []\n",
    "for i in range(0, Ana.shape[0]):\n",
    "  if(i+timestep< Ana.shape[0]):\n",
    "    aheadGain = [Ana[\"returns\"][i+j] for j in range(1,timestep+1)]\n",
    "    labels+= [np.sum(aheadGain)> 0]\n",
    "\n",
    "print(len(labels))\n",
    "\n",
    "# Price Table with Labels as Signal\n",
    "Ana = Ana.iloc[:-timestep,:].copy()\n",
    "Ana.head()\n",
    "Ana['Signal'] = labels\n",
    "Ana.head()"
   ]
  },
  {
   "cell_type": "code",
   "execution_count": 369,
   "metadata": {
    "colab": {
     "base_uri": "https://localhost:8080/",
     "height": 259
    },
    "colab_type": "code",
    "id": "4phe0FvQbwcJ",
    "outputId": "0a658501-c3c0-405d-d740-45956d8a7fa8"
   },
   "outputs": [
    {
     "name": "stdout",
     "output_type": "stream",
     "text": [
      "['Close' 'marketRisk' 'returns' 'Target' 'Signal' 'r1' 'r2'\n",
      " 'marketrisk_avg30' 'marketrisk_avg7']\n"
     ]
    },
    {
     "data": {
      "text/html": [
       "<div>\n",
       "<style scoped>\n",
       "    .dataframe tbody tr th:only-of-type {\n",
       "        vertical-align: middle;\n",
       "    }\n",
       "\n",
       "    .dataframe tbody tr th {\n",
       "        vertical-align: top;\n",
       "    }\n",
       "\n",
       "    .dataframe thead th {\n",
       "        text-align: right;\n",
       "    }\n",
       "</style>\n",
       "<table border=\"1\" class=\"dataframe\">\n",
       "  <thead>\n",
       "    <tr style=\"text-align: right;\">\n",
       "      <th></th>\n",
       "      <th>Close</th>\n",
       "      <th>marketRisk</th>\n",
       "      <th>returns</th>\n",
       "      <th>Target</th>\n",
       "      <th>Signal</th>\n",
       "      <th>r1</th>\n",
       "      <th>r2</th>\n",
       "      <th>marketrisk_avg30</th>\n",
       "      <th>marketrisk_avg7</th>\n",
       "    </tr>\n",
       "    <tr>\n",
       "      <th>Date</th>\n",
       "      <th></th>\n",
       "      <th></th>\n",
       "      <th></th>\n",
       "      <th></th>\n",
       "      <th></th>\n",
       "      <th></th>\n",
       "      <th></th>\n",
       "      <th></th>\n",
       "      <th></th>\n",
       "    </tr>\n",
       "  </thead>\n",
       "  <tbody>\n",
       "    <tr>\n",
       "      <th>1998-02-12</th>\n",
       "      <td>0.916170</td>\n",
       "      <td>0.026344</td>\n",
       "      <td>-0.005955</td>\n",
       "      <td>0.004470</td>\n",
       "      <td>True</td>\n",
       "      <td>-0.005489</td>\n",
       "      <td>-0.002272</td>\n",
       "      <td>0.034099</td>\n",
       "      <td>0.034269</td>\n",
       "    </tr>\n",
       "    <tr>\n",
       "      <th>1998-02-13</th>\n",
       "      <td>0.920641</td>\n",
       "      <td>0.041956</td>\n",
       "      <td>0.004879</td>\n",
       "      <td>-0.001270</td>\n",
       "      <td>False</td>\n",
       "      <td>0.004470</td>\n",
       "      <td>0.007399</td>\n",
       "      <td>0.034651</td>\n",
       "      <td>0.032326</td>\n",
       "    </tr>\n",
       "    <tr>\n",
       "      <th>1998-02-16</th>\n",
       "      <td>0.919371</td>\n",
       "      <td>0.035510</td>\n",
       "      <td>-0.001379</td>\n",
       "      <td>0.004246</td>\n",
       "      <td>True</td>\n",
       "      <td>-0.001270</td>\n",
       "      <td>0.012506</td>\n",
       "      <td>0.033024</td>\n",
       "      <td>0.029066</td>\n",
       "    </tr>\n",
       "    <tr>\n",
       "      <th>1998-02-17</th>\n",
       "      <td>0.923617</td>\n",
       "      <td>0.030415</td>\n",
       "      <td>0.004618</td>\n",
       "      <td>-0.002128</td>\n",
       "      <td>False</td>\n",
       "      <td>0.004246</td>\n",
       "      <td>0.006017</td>\n",
       "      <td>0.032504</td>\n",
       "      <td>0.030515</td>\n",
       "    </tr>\n",
       "    <tr>\n",
       "      <th>1998-02-18</th>\n",
       "      <td>0.921489</td>\n",
       "      <td>-0.008587</td>\n",
       "      <td>-0.002304</td>\n",
       "      <td>-0.002625</td>\n",
       "      <td>False</td>\n",
       "      <td>-0.002128</td>\n",
       "      <td>-0.000935</td>\n",
       "      <td>0.031556</td>\n",
       "      <td>0.030198</td>\n",
       "    </tr>\n",
       "  </tbody>\n",
       "</table>\n",
       "</div>"
      ],
      "text/plain": [
       "               Close  marketRisk   returns    Target  Signal        r1  \\\n",
       "Date                                                                     \n",
       "1998-02-12  0.916170    0.026344 -0.005955  0.004470    True -0.005489   \n",
       "1998-02-13  0.920641    0.041956  0.004879 -0.001270   False  0.004470   \n",
       "1998-02-16  0.919371    0.035510 -0.001379  0.004246    True -0.001270   \n",
       "1998-02-17  0.923617    0.030415  0.004618 -0.002128   False  0.004246   \n",
       "1998-02-18  0.921489   -0.008587 -0.002304 -0.002625   False -0.002128   \n",
       "\n",
       "                  r2  marketrisk_avg30  marketrisk_avg7  \n",
       "Date                                                     \n",
       "1998-02-12 -0.002272          0.034099         0.034269  \n",
       "1998-02-13  0.007399          0.034651         0.032326  \n",
       "1998-02-16  0.012506          0.033024         0.029066  \n",
       "1998-02-17  0.006017          0.032504         0.030515  \n",
       "1998-02-18 -0.000935          0.031556         0.030198  "
      ]
     },
     "execution_count": 369,
     "metadata": {
      "tags": []
     },
     "output_type": "execute_result"
    }
   ],
   "source": [
    "#Feature Engineering\n",
    "Ana[\"r1\"] =  Ana[\"Close\"].diff(1)\n",
    "Ana[\"r2\"] =  Ana[\"Close\"].diff(7)\n",
    "\n",
    "Ana[\"marketrisk_avg30\"] = Ana[\"marketRisk\"].rolling(30).mean()\n",
    "Ana[\"marketrisk_avg7\"] = Ana[\"marketRisk\"].rolling(7).mean()\n",
    "\n",
    "#Drop NA\n",
    "Sett = Ana.dropna(0)\n",
    "\n",
    "print(Sett.columns.values)\n",
    "Sett.head()"
   ]
  },
  {
   "cell_type": "code",
   "execution_count": 370,
   "metadata": {
    "colab": {
     "base_uri": "https://localhost:8080/",
     "height": 276
    },
    "colab_type": "code",
    "id": "HInEXnin29AV",
    "outputId": "3bccb243-4f65-4e05-89cf-d3ebf8dd2c63"
   },
   "outputs": [
    {
     "name": "stdout",
     "output_type": "stream",
     "text": [
      "Close\n",
      "marketrisk_avg7\n",
      "(5419, 7)\n"
     ]
    },
    {
     "data": {
      "text/html": [
       "<div>\n",
       "<style scoped>\n",
       "    .dataframe tbody tr th:only-of-type {\n",
       "        vertical-align: middle;\n",
       "    }\n",
       "\n",
       "    .dataframe tbody tr th {\n",
       "        vertical-align: top;\n",
       "    }\n",
       "\n",
       "    .dataframe thead th {\n",
       "        text-align: right;\n",
       "    }\n",
       "</style>\n",
       "<table border=\"1\" class=\"dataframe\">\n",
       "  <thead>\n",
       "    <tr style=\"text-align: right;\">\n",
       "      <th></th>\n",
       "      <th>Close</th>\n",
       "      <th>marketRisk</th>\n",
       "      <th>r1</th>\n",
       "      <th>r2</th>\n",
       "      <th>marketrisk_avg30</th>\n",
       "      <th>marketrisk_avg7</th>\n",
       "      <th>Target</th>\n",
       "    </tr>\n",
       "    <tr>\n",
       "      <th>Date</th>\n",
       "      <th></th>\n",
       "      <th></th>\n",
       "      <th></th>\n",
       "      <th></th>\n",
       "      <th></th>\n",
       "      <th></th>\n",
       "      <th></th>\n",
       "    </tr>\n",
       "  </thead>\n",
       "  <tbody>\n",
       "    <tr>\n",
       "      <th>1998-02-12</th>\n",
       "      <td>0.916170</td>\n",
       "      <td>0.026344</td>\n",
       "      <td>-0.005489</td>\n",
       "      <td>-0.002272</td>\n",
       "      <td>0.034099</td>\n",
       "      <td>0.034269</td>\n",
       "      <td>0.004470</td>\n",
       "    </tr>\n",
       "    <tr>\n",
       "      <th>1998-02-13</th>\n",
       "      <td>0.920641</td>\n",
       "      <td>0.041956</td>\n",
       "      <td>0.004470</td>\n",
       "      <td>0.007399</td>\n",
       "      <td>0.034651</td>\n",
       "      <td>0.032326</td>\n",
       "      <td>-0.001270</td>\n",
       "    </tr>\n",
       "    <tr>\n",
       "      <th>1998-02-16</th>\n",
       "      <td>0.919371</td>\n",
       "      <td>0.035510</td>\n",
       "      <td>-0.001270</td>\n",
       "      <td>0.012506</td>\n",
       "      <td>0.033024</td>\n",
       "      <td>0.029066</td>\n",
       "      <td>0.004246</td>\n",
       "    </tr>\n",
       "    <tr>\n",
       "      <th>1998-02-17</th>\n",
       "      <td>0.923617</td>\n",
       "      <td>0.030415</td>\n",
       "      <td>0.004246</td>\n",
       "      <td>0.006017</td>\n",
       "      <td>0.032504</td>\n",
       "      <td>0.030515</td>\n",
       "      <td>-0.002128</td>\n",
       "    </tr>\n",
       "    <tr>\n",
       "      <th>1998-02-18</th>\n",
       "      <td>0.921489</td>\n",
       "      <td>-0.008587</td>\n",
       "      <td>-0.002128</td>\n",
       "      <td>-0.000935</td>\n",
       "      <td>0.031556</td>\n",
       "      <td>0.030198</td>\n",
       "      <td>-0.002625</td>\n",
       "    </tr>\n",
       "  </tbody>\n",
       "</table>\n",
       "</div>"
      ],
      "text/plain": [
       "               Close  marketRisk        r1        r2  marketrisk_avg30  \\\n",
       "Date                                                                     \n",
       "1998-02-12  0.916170    0.026344 -0.005489 -0.002272          0.034099   \n",
       "1998-02-13  0.920641    0.041956  0.004470  0.007399          0.034651   \n",
       "1998-02-16  0.919371    0.035510 -0.001270  0.012506          0.033024   \n",
       "1998-02-17  0.923617    0.030415  0.004246  0.006017          0.032504   \n",
       "1998-02-18  0.921489   -0.008587 -0.002128 -0.000935          0.031556   \n",
       "\n",
       "            marketrisk_avg7    Target  \n",
       "Date                                   \n",
       "1998-02-12         0.034269  0.004470  \n",
       "1998-02-13         0.032326 -0.001270  \n",
       "1998-02-16         0.029066  0.004246  \n",
       "1998-02-17         0.030515 -0.002128  \n",
       "1998-02-18         0.030198 -0.002625  "
      ]
     },
     "execution_count": 370,
     "metadata": {
      "tags": []
     },
     "output_type": "execute_result"
    }
   ],
   "source": [
    "#Features Selection\n",
    "Set =  Sett[['Close', 'marketRisk', 'r1', 'r2', 'marketrisk_avg30', 'marketrisk_avg7', 'Target', \"Signal\"]]\n",
    "\n",
    "#Alternative variables for 5 time steps memory instead of remembering the whole time line\n",
    "# Set[['Close-5', 'marketRisk-5', 'r1-5', 'r2-5', '30marketRisk-5', '7marketRisk-5']] = Set[['Close', 'marketRisk', 'r1', 'r2', '30marketRisk', '7marketRisk']].shift(5)\n",
    "# Set[['Close-4', 'marketRisk-4', 'r1-4', 'r2-4', '30marketRisk-4', '7marketRisk-4']] = Set[['Close', 'marketRisk', 'r1', 'r2', '30marketRisk', '7marketRisk']].shift(4)\n",
    "# Set[['Close-3', 'marketRisk-3', 'r1-3', 'r2-3', '30marketRisk-3', '7marketRisk-3']] = Set[['Close', 'marketRisk', 'r1', 'r2', '30marketRisk', '7marketRisk']].shift(3)\n",
    "# Set[['Close-2', 'marketRisk-2', 'r1-2', 'r2-2', '30marketRisk-2', '7marketRisk-2']] = Set[['Close', 'marketRisk', 'r1', 'r2', '30marketRisk', '7marketRisk']].shift(2)\n",
    "# Set[['Close-1', 'marketRisk-1', 'r1-1', 'r2-1', '30marketRisk-1', '7marketRisk-1']] = Set[['Close', 'marketRisk', 'r1', 'r2', '30marketRisk', '7marketRisk']].shift(1)\n",
    "\n",
    "YVAR = \"Target\"\n",
    "Set =  Set[[\n",
    "#             \"Close-4\", \"marketRisk-4\", '7Close-4', \"7marketRisk-4\", '30Close-4','30marketRisk-4', \n",
    "#             \"Close-3\", \"marketRisk-3\", '7Close-3', \"7marketRisk-3\", '30Close-3','30marketRisk-3', \n",
    "#             \"Close-2\", \"marketRisk-2\", '7Close-2', \"7marketRisk-2\", '30Close-2','30marketRisk-2',\n",
    "#             \"Close-1\", \"marketRisk-1\", '7Close-1', \"7marketRisk-1\", '30Close-1','30marketRisk-1', \n",
    "            'Close', 'marketRisk', 'r1', 'r2', 'marketrisk_avg30', 'marketrisk_avg7', \n",
    "            YVAR\n",
    "          ]]\n",
    "\n",
    "FIRSTTRAINVAR = Set.columns[0]\n",
    "print(FIRSTTRAINVAR)\n",
    "LASTTRAINVARIABLE = Set.columns[-2]\n",
    "print(LASTTRAINVARIABLE)\n",
    "\n",
    "print(Set.shape)\n",
    "Set.head()"
   ]
  },
  {
   "cell_type": "code",
   "execution_count": 316,
   "metadata": {
    "colab": {
     "base_uri": "https://localhost:8080/",
     "height": 35
    },
    "colab_type": "code",
    "id": "WzMxr9YT_D2H",
    "outputId": "bd354145-3d42-4c99-c992-7e520f6f527a"
   },
   "outputs": [
    {
     "data": {
      "text/plain": [
       "'marketRisk'"
      ]
     },
     "execution_count": 316,
     "metadata": {
      "tags": []
     },
     "output_type": "execute_result"
    }
   ],
   "source": [
    "Set.columns[1]"
   ]
  },
  {
   "cell_type": "markdown",
   "metadata": {
    "colab_type": "text",
    "id": "Ovn_3v_G1Xuq"
   },
   "source": [
    "## 3.2 Train-Validate-Test Split"
   ]
  },
  {
   "cell_type": "code",
   "execution_count": 340,
   "metadata": {
    "colab": {
     "base_uri": "https://localhost:8080/",
     "height": 141
    },
    "colab_type": "code",
    "id": "JvOKmcgM1da_",
    "outputId": "f728ae3c-a3d2-418e-aef0-b939aa329060"
   },
   "outputs": [
    {
     "name": "stdout",
     "output_type": "stream",
     "text": [
      "(260, 6)\n",
      "(260, 1, 6)\n",
      "(260, 1)\n",
      "(108, 1, 6)\n",
      "(108, 1)\n",
      "(495, 1, 6)\n",
      "(495, 1)\n"
     ]
    }
   ],
   "source": [
    "#Split train and test set at TRAIN_DATE_END and TEST_DATE_START\n",
    "TRAIN_START = \"2017-01-01\"\n",
    "TRAIN_END = \"2017-12-31\"\n",
    "VALIDATE_START = \"2018-01-01\"\n",
    "VALIDATE_END = \"2018-05-31\"\n",
    "TEST_START = \"2018-06-01\"\n",
    "TEST_END = \"2018-12-08\"\n",
    "\n",
    "X_SHAPE1 = 1\n",
    "X_SHAPE2 = 6\n",
    "\n",
    "#train_x\n",
    "train_x = Set.loc[TRAIN_START:TRAIN_END, FIRSTTRAINVAR:LASTTRAINVARIABLE]\n",
    "# Normalised train_x to [0,1]\n",
    "# print(train_x.head())\n",
    "scaler = MinMaxScaler(feature_range=(0, 1))\n",
    "train_x = scaler.fit_transform(train_x)\n",
    "print(train_x.shape)\n",
    "#reshape train_x for RNN input\n",
    "train_x = train_x.reshape(train_x.shape[0], X_SHAPE1, X_SHAPE2)\n",
    "print(train_x.shape)\n",
    "\n",
    "#train_y\n",
    "train_y = Set.loc[TRAIN_START:TRAIN_END, YVAR]\n",
    "train_y = train_y.values.reshape((train_y.shape[0], 1))\n",
    "yscaler = MinMaxScaler(feature_range=(0, 1))\n",
    "# train_y = yscaler.fit_transform(train_y)\n",
    "print(train_y.shape)\n",
    "\n",
    "validate_x\n",
    "validate_x = Set.loc[VALIDATE_START:VALIDATE_END, FIRSTTRAINVAR:LASTTRAINVARIABLE]\n",
    "# Normalised train_x to [0,1]\n",
    "validate_x = scaler.transform(validate_x)\n",
    "#reshape test_x for RNN input\n",
    "validate_x = validate_x.reshape(validate_x.shape[0], X_SHAPE1, X_SHAPE2)\n",
    "print(validate_x.shape)\n",
    "\n",
    "#validate_y\n",
    "validate_y = Set.loc[VALIDATE_START:VALIDATE_END, YVAR]\n",
    "validate_y = validate_y.values.reshape((validate_y.shape[0], 1))\n",
    "# validate_y = yscaler.transform(validate_y)\n",
    "print(validate_y.shape)\n",
    "\n",
    "#test_x\n",
    "test_x = Set.loc[TRAIN_START:TEST_END, FIRSTTRAINVAR:LASTTRAINVARIABLE]\n",
    "# Normalised train_x to [0,1]\n",
    "test_x = scaler.transform(test_x)\n",
    "#reshape test_x for RNN input\n",
    "test_x = test_x.reshape(test_x.shape[0], X_SHAPE1, X_SHAPE2)\n",
    "print(test_x.shape)\n",
    "\n",
    "#test_y\n",
    "test_y = Set.loc[TRAIN_START:TEST_END, YVAR]\n",
    "test_y = test_y.values.reshape((test_y.shape[0], 1))\n",
    "# test_y = yscaler.transform(test_y)\n",
    "\n",
    "print(test_y.shape)\n",
    "\n",
    "TESTSTART = train_x.shape[0] + validate_x.shape[0]\n",
    "VALIDATESTART = train_x.shape[0]"
   ]
  },
  {
   "cell_type": "markdown",
   "metadata": {
    "colab_type": "text",
    "id": "dlbzLIadpybc"
   },
   "source": [
    "## 3.3 Training"
   ]
  },
  {
   "cell_type": "code",
   "execution_count": null,
   "metadata": {
    "colab": {},
    "colab_type": "code",
    "id": "tjHCITcI_Dox"
   },
   "outputs": [],
   "source": [
    "## Specifying Batch Size\n",
    "n_batch = 1"
   ]
  },
  {
   "cell_type": "code",
   "execution_count": 295,
   "metadata": {
    "colab": {
     "base_uri": "https://localhost:8080/",
     "height": 35
    },
    "colab_type": "code",
    "id": "g0d3Q3Cwc6OQ",
    "outputId": "7144d4cf-6bf4-4a0d-d1ca-fed358d327ee"
   },
   "outputs": [
    {
     "data": {
      "text/plain": [
       "(array([False,  True]), array([140, 120]))"
      ]
     },
     "execution_count": 295,
     "metadata": {
      "tags": []
     },
     "output_type": "execute_result"
    }
   ],
   "source": [
    "#Check train_y statistic\n",
    "np.unique(train_y, return_counts=True)"
   ]
  },
  {
   "cell_type": "code",
   "execution_count": null,
   "metadata": {
    "colab": {},
    "colab_type": "code",
    "id": "2vNQkCklGAVC"
   },
   "outputs": [],
   "source": [
    "## Only to use when removing model \n",
    "!rm best.h5"
   ]
  },
  {
   "cell_type": "code",
   "execution_count": 364,
   "metadata": {
    "colab": {
     "base_uri": "https://localhost:8080/",
     "height": 2684
    },
    "colab_type": "code",
    "id": "ERg5Jo-84H1a",
    "outputId": "bffc8d9f-2fc5-4683-d1de-ae5c6d18b4c9"
   },
   "outputs": [
    {
     "name": "stdout",
     "output_type": "stream",
     "text": [
      "Train on 260 samples, validate on 108 samples\n",
      "Epoch 1/1\n",
      "260/260 [==============================] - 8s 30ms/step - loss: 4.6584e-04 - val_loss: 1.9448e-04\n",
      "\n",
      "Epoch 00001: val_loss improved from inf to 0.00019, saving model to best.h5\n",
      "Train on 260 samples, validate on 108 samples\n",
      "Epoch 1/1\n",
      "260/260 [==============================] - 1s 3ms/step - loss: 1.3577e-04 - val_loss: 1.4769e-04\n",
      "\n",
      "Epoch 00001: val_loss improved from 0.00019 to 0.00015, saving model to best.h5\n",
      "Train on 260 samples, validate on 108 samples\n",
      "Epoch 1/1\n",
      "260/260 [==============================] - 1s 3ms/step - loss: 4.1324e-05 - val_loss: 8.9395e-05\n",
      "\n",
      "Epoch 00001: val_loss improved from 0.00015 to 0.00009, saving model to best.h5\n",
      "Train on 260 samples, validate on 108 samples\n",
      "Epoch 1/1\n",
      "260/260 [==============================] - 1s 3ms/step - loss: 3.6188e-05 - val_loss: 8.3580e-05\n",
      "\n",
      "Epoch 00001: val_loss improved from 0.00009 to 0.00008, saving model to best.h5\n",
      "Train on 260 samples, validate on 108 samples\n",
      "Epoch 1/1\n",
      "260/260 [==============================] - 1s 3ms/step - loss: 5.7833e-05 - val_loss: 1.5723e-04\n",
      "\n",
      "Epoch 00001: val_loss did not improve from 0.00008\n",
      "Train on 260 samples, validate on 108 samples\n",
      "Epoch 1/1\n",
      "260/260 [==============================] - 1s 3ms/step - loss: 5.2906e-05 - val_loss: 2.4564e-04\n",
      "\n",
      "Epoch 00001: val_loss did not improve from 0.00008\n",
      "Train on 260 samples, validate on 108 samples\n",
      "Epoch 1/1\n",
      "260/260 [==============================] - 1s 3ms/step - loss: 4.0596e-05 - val_loss: 4.7462e-05\n",
      "\n",
      "Epoch 00001: val_loss improved from 0.00008 to 0.00005, saving model to best.h5\n",
      "Train on 260 samples, validate on 108 samples\n",
      "Epoch 1/1\n",
      "260/260 [==============================] - 1s 3ms/step - loss: 3.3861e-05 - val_loss: 3.5671e-05\n",
      "\n",
      "Epoch 00001: val_loss improved from 0.00005 to 0.00004, saving model to best.h5\n",
      "Train on 260 samples, validate on 108 samples\n",
      "Epoch 1/1\n",
      "260/260 [==============================] - 1s 3ms/step - loss: 2.0584e-05 - val_loss: 3.1243e-05\n",
      "\n",
      "Epoch 00001: val_loss improved from 0.00004 to 0.00003, saving model to best.h5\n",
      "Train on 260 samples, validate on 108 samples\n",
      "Epoch 1/1\n",
      "260/260 [==============================] - 1s 3ms/step - loss: 1.7849e-05 - val_loss: 3.7683e-05\n",
      "\n",
      "Epoch 00001: val_loss did not improve from 0.00003\n",
      "Train on 260 samples, validate on 108 samples\n",
      "Epoch 1/1\n",
      "260/260 [==============================] - 1s 3ms/step - loss: 2.3942e-05 - val_loss: 3.2166e-05\n",
      "\n",
      "Epoch 00001: val_loss did not improve from 0.00003\n",
      "Train on 260 samples, validate on 108 samples\n",
      "Epoch 1/1\n",
      "260/260 [==============================] - 1s 3ms/step - loss: 2.5933e-05 - val_loss: 4.0886e-05\n",
      "\n",
      "Epoch 00001: val_loss did not improve from 0.00003\n",
      "Train on 260 samples, validate on 108 samples\n",
      "Epoch 1/1\n",
      "260/260 [==============================] - 1s 3ms/step - loss: 3.3553e-05 - val_loss: 4.8603e-05\n",
      "\n",
      "Epoch 00001: val_loss did not improve from 0.00003\n",
      "Train on 260 samples, validate on 108 samples\n",
      "Epoch 1/1\n",
      "260/260 [==============================] - 1s 3ms/step - loss: 4.3692e-05 - val_loss: 9.4122e-05\n",
      "\n",
      "Epoch 00001: val_loss did not improve from 0.00003\n",
      "Train on 260 samples, validate on 108 samples\n",
      "Epoch 1/1\n",
      "260/260 [==============================] - 1s 3ms/step - loss: 4.4429e-05 - val_loss: 8.7455e-05\n",
      "\n",
      "Epoch 00001: val_loss did not improve from 0.00003\n",
      "Train on 260 samples, validate on 108 samples\n",
      "Epoch 1/1\n",
      "260/260 [==============================] - 1s 3ms/step - loss: 3.4961e-05 - val_loss: 4.2560e-05\n",
      "\n",
      "Epoch 00001: val_loss did not improve from 0.00003\n",
      "Train on 260 samples, validate on 108 samples\n",
      "Epoch 1/1\n",
      "260/260 [==============================] - 1s 3ms/step - loss: 3.0040e-05 - val_loss: 1.0657e-04\n",
      "\n",
      "Epoch 00001: val_loss did not improve from 0.00003\n",
      "Train on 260 samples, validate on 108 samples\n",
      "Epoch 1/1\n",
      "260/260 [==============================] - 1s 3ms/step - loss: 2.8238e-05 - val_loss: 2.0882e-05\n",
      "\n",
      "Epoch 00001: val_loss improved from 0.00003 to 0.00002, saving model to best.h5\n",
      "Train on 260 samples, validate on 108 samples\n",
      "Epoch 1/1\n",
      "260/260 [==============================] - 1s 3ms/step - loss: 2.0104e-05 - val_loss: 1.3678e-05\n",
      "\n",
      "Epoch 00001: val_loss improved from 0.00002 to 0.00001, saving model to best.h5\n",
      "Train on 260 samples, validate on 108 samples\n",
      "Epoch 1/1\n",
      "260/260 [==============================] - 1s 3ms/step - loss: 1.9740e-05 - val_loss: 1.3851e-05\n",
      "\n",
      "Epoch 00001: val_loss did not improve from 0.00001\n",
      "Train on 260 samples, validate on 108 samples\n",
      "Epoch 1/1\n",
      "260/260 [==============================] - 1s 3ms/step - loss: 1.9570e-05 - val_loss: 1.8931e-05\n",
      "\n",
      "Epoch 00001: val_loss did not improve from 0.00001\n",
      "Train on 260 samples, validate on 108 samples\n",
      "Epoch 1/1\n",
      "260/260 [==============================] - 1s 3ms/step - loss: 1.8804e-05 - val_loss: 1.4209e-05\n",
      "\n",
      "Epoch 00001: val_loss did not improve from 0.00001\n",
      "Train on 260 samples, validate on 108 samples\n",
      "Epoch 1/1\n",
      "260/260 [==============================] - 1s 3ms/step - loss: 1.8736e-05 - val_loss: 1.4473e-05\n",
      "\n",
      "Epoch 00001: val_loss did not improve from 0.00001\n",
      "Train on 260 samples, validate on 108 samples\n",
      "Epoch 1/1\n",
      "260/260 [==============================] - 1s 3ms/step - loss: 1.8015e-05 - val_loss: 1.4541e-05\n",
      "\n",
      "Epoch 00001: val_loss did not improve from 0.00001\n",
      "Train on 260 samples, validate on 108 samples\n",
      "Epoch 1/1\n",
      "260/260 [==============================] - 1s 3ms/step - loss: 1.8135e-05 - val_loss: 1.4535e-05\n",
      "\n",
      "Epoch 00001: val_loss did not improve from 0.00001\n",
      "Train on 260 samples, validate on 108 samples\n",
      "Epoch 1/1\n",
      "260/260 [==============================] - 1s 3ms/step - loss: 1.8358e-05 - val_loss: 1.6737e-05\n",
      "\n",
      "Epoch 00001: val_loss did not improve from 0.00001\n",
      "Train on 260 samples, validate on 108 samples\n",
      "Epoch 1/1\n",
      "260/260 [==============================] - 1s 3ms/step - loss: 1.8702e-05 - val_loss: 1.8366e-05\n",
      "\n",
      "Epoch 00001: val_loss did not improve from 0.00001\n",
      "Train on 260 samples, validate on 108 samples\n",
      "Epoch 1/1\n",
      "260/260 [==============================] - 1s 3ms/step - loss: 1.9116e-05 - val_loss: 1.8591e-05\n",
      "\n",
      "Epoch 00001: val_loss did not improve from 0.00001\n",
      "Train on 260 samples, validate on 108 samples\n",
      "Epoch 1/1\n",
      "260/260 [==============================] - 1s 3ms/step - loss: 1.9061e-05 - val_loss: 2.2444e-05\n",
      "\n",
      "Epoch 00001: val_loss did not improve from 0.00001\n",
      "Train on 260 samples, validate on 108 samples\n",
      "Epoch 1/1\n",
      "260/260 [==============================] - 1s 3ms/step - loss: 1.8729e-05 - val_loss: 2.2522e-05\n",
      "\n",
      "Epoch 00001: val_loss did not improve from 0.00001\n"
     ]
    }
   ],
   "source": [
    "# Design LSTM Model\n",
    "model = Sequential()\n",
    "model.add(LSTM(20, batch_input_shape=(n_batch, train_x.shape[1], train_x.shape[2]),return_sequences=True, recurrent_dropout=0.0, stateful = True))\n",
    "model.add(LSTM(20,return_sequences=False, recurrent_dropout=0.0, stateful = True))\n",
    "model.add(Dense(20))\n",
    "model.add(Activation('relu'))\n",
    "model.add(Dense(1))\n",
    "# model.add(Activation('sigmoid'))\n",
    "# model.compile(loss='binary_crossentropy', optimizer='adam', metrics=['binary_accuracy'])\n",
    "model.compile(loss='mean_squared_error', optimizer='adam')\n",
    "\n",
    "# Checkpoint\n",
    "checkpoint = ModelCheckpoint(\"best.h5\", monitor='val_loss', verbose=1, save_best_only=True, save_weights_only=False, mode='auto')\n",
    "early = EarlyStopping(monitor='val_loss', min_delta=0, patience=10, verbose=1, mode='auto')\n",
    "callbacks_list = [checkpoint]\n",
    "\n",
    "# Fit model\n",
    "if os.path.isfile(\"best.h5\"):\n",
    "  model.load_weights(\"best.h5\")\n",
    "\n",
    "# history = model.fit(train_x, train_y, epochs=100,  batch_size=n_batch, callbacks=[checkpoint, early],\n",
    "#                     validation_data=(validate_x, validate_y), shuffle=False, \n",
    "#                       class_weight= {0:1, 1:1.5}\n",
    "#                       )\n",
    "\n",
    "\n",
    "for i in range(30):\n",
    "  model.fit(train_x, train_y, epochs=1, batch_size=n_batch, shuffle=False, validation_data=(validate_x, validate_y), callbacks=[checkpoint, early] \n",
    "#             ,class_weight= {0:1, 1:1}\n",
    "           )\n",
    "  model.reset_states()"
   ]
  },
  {
   "cell_type": "code",
   "execution_count": null,
   "metadata": {
    "colab": {},
    "colab_type": "code",
    "id": "RDDRuIC3BZAd"
   },
   "outputs": [],
   "source": [
    "# Plot Learning Curve\n",
    "plt.plot(history.history['loss'], label='train')\n",
    "plt.plot(history.history['val_loss'], label='test')\n",
    "plt.legend()\n",
    "plt.show"
   ]
  },
  {
   "cell_type": "markdown",
   "metadata": {
    "colab_type": "text",
    "id": "ONIJqFm4Hhr7"
   },
   "source": [
    "## 3.4  Predicting"
   ]
  },
  {
   "cell_type": "code",
   "execution_count": 350,
   "metadata": {
    "colab": {
     "base_uri": "https://localhost:8080/",
     "height": 35
    },
    "colab_type": "code",
    "id": "UPI5Kb6cBj0Y",
    "outputId": "5e366c07-65a6-484c-d969-beeb5986242a"
   },
   "outputs": [
    {
     "data": {
      "text/plain": [
       "(495, 1)"
      ]
     },
     "execution_count": 350,
     "metadata": {
      "tags": []
     },
     "output_type": "execute_result"
    }
   ],
   "source": [
    "# Make predictions, yhat, on test set\n",
    "if os.path.isfile(\"best.h5\"):\n",
    "  model.load_weights(\"best.h5\")\n",
    "yhat = model.predict(test_x, batch_size=n_batch)\n",
    "# yhat = yscaler.inverse_transform(yhat)\n",
    "\n",
    "yhat.shape"
   ]
  },
  {
   "cell_type": "code",
   "execution_count": null,
   "metadata": {
    "colab": {},
    "colab_type": "code",
    "id": "eBFhKWzc0HKx"
   },
   "outputs": [],
   "source": [
    "# define confusion matrix function\n",
    "def plot_confusion_matrix(cm, classes,\n",
    "                          normalize=False,\n",
    "                          title='Confusion matrix',\n",
    "                          cmap=plt.cm.Blues):\n",
    "    \"\"\"\n",
    "    This function prints and plots the confusion matrix.\n",
    "    Normalization can be applied by setting `normalize=True`.\n",
    "    \"\"\"\n",
    "    if normalize:\n",
    "        cm = cm.astype('float') / cm.sum(axis=1)[:, np.newaxis]\n",
    "        print(\"Normalized confusion matrix\")\n",
    "    else:\n",
    "        print('Confusion matrix, without normalization')\n",
    "\n",
    "    print(cm)\n",
    "\n",
    "    plt.imshow(cm, interpolation='nearest', cmap=cmap)\n",
    "    plt.title(title)\n",
    "#     plt.colorbar()\n",
    "    tick_marks = np.arange(len(classes))\n",
    "    plt.xticks(tick_marks, classes, rotation=45)\n",
    "    plt.yticks(tick_marks, classes)\n",
    "\n",
    "    fmt = '.2f' if normalize else 'd'\n",
    "    thresh = cm.max() / 2.\n",
    "    for i, j in itertools.product(range(cm.shape[0]), range(cm.shape[1])):\n",
    "        plt.text(j, i, format(cm[i, j], fmt),\n",
    "                 horizontalalignment=\"center\",\n",
    "                 color=\"white\" if cm[i, j] > thresh else \"black\")\n",
    "\n",
    "    plt.ylabel('True label')\n",
    "    plt.xlabel('Predicted label')\n",
    "    plt.tight_layout()"
   ]
  },
  {
   "cell_type": "code",
   "execution_count": 351,
   "metadata": {
    "colab": {
     "base_uri": "https://localhost:8080/",
     "height": 328
    },
    "colab_type": "code",
    "id": "o00WgrLhB3d_",
    "outputId": "347e5a45-3f99-4437-f783-7ce780c76b15"
   },
   "outputs": [
    {
     "data": {
      "text/html": [
       "<div>\n",
       "<style scoped>\n",
       "    .dataframe tbody tr th:only-of-type {\n",
       "        vertical-align: middle;\n",
       "    }\n",
       "\n",
       "    .dataframe tbody tr th {\n",
       "        vertical-align: top;\n",
       "    }\n",
       "\n",
       "    .dataframe thead th {\n",
       "        text-align: right;\n",
       "    }\n",
       "</style>\n",
       "<table border=\"1\" class=\"dataframe\">\n",
       "  <thead>\n",
       "    <tr style=\"text-align: right;\">\n",
       "      <th></th>\n",
       "      <th>Close</th>\n",
       "      <th>marketRisk</th>\n",
       "      <th>returns</th>\n",
       "      <th>Target</th>\n",
       "      <th>Signal</th>\n",
       "      <th>r1</th>\n",
       "      <th>r2</th>\n",
       "      <th>30marketRisk</th>\n",
       "      <th>7marketRisk</th>\n",
       "      <th>predictPrice</th>\n",
       "      <th>predictSignal</th>\n",
       "      <th>predictedweight</th>\n",
       "      <th>labelledweight</th>\n",
       "      <th>r</th>\n",
       "      <th>predictedreturns</th>\n",
       "      <th>labelledreturns</th>\n",
       "      <th>labelledPNL</th>\n",
       "      <th>PNL</th>\n",
       "    </tr>\n",
       "    <tr>\n",
       "      <th>Date</th>\n",
       "      <th></th>\n",
       "      <th></th>\n",
       "      <th></th>\n",
       "      <th></th>\n",
       "      <th></th>\n",
       "      <th></th>\n",
       "      <th></th>\n",
       "      <th></th>\n",
       "      <th></th>\n",
       "      <th></th>\n",
       "      <th></th>\n",
       "      <th></th>\n",
       "      <th></th>\n",
       "      <th></th>\n",
       "      <th></th>\n",
       "      <th></th>\n",
       "      <th></th>\n",
       "      <th></th>\n",
       "    </tr>\n",
       "  </thead>\n",
       "  <tbody>\n",
       "    <tr>\n",
       "      <th>2018-06-01</th>\n",
       "      <td>0.857633</td>\n",
       "      <td>0.069993</td>\n",
       "      <td>0.002573</td>\n",
       "      <td>-0.002786</td>\n",
       "      <td>False</td>\n",
       "      <td>0.002201</td>\n",
       "      <td>0.002640</td>\n",
       "      <td>0.064267</td>\n",
       "      <td>0.048216</td>\n",
       "      <td>-0.000508</td>\n",
       "      <td>False</td>\n",
       "      <td>0</td>\n",
       "      <td>0</td>\n",
       "      <td>0.002573</td>\n",
       "      <td>0.0</td>\n",
       "      <td>0.002573</td>\n",
       "      <td>1.002573</td>\n",
       "      <td>1.0</td>\n",
       "    </tr>\n",
       "    <tr>\n",
       "      <th>2018-06-04</th>\n",
       "      <td>0.854847</td>\n",
       "      <td>0.041861</td>\n",
       "      <td>-0.003248</td>\n",
       "      <td>-0.001386</td>\n",
       "      <td>False</td>\n",
       "      <td>-0.002786</td>\n",
       "      <td>0.001532</td>\n",
       "      <td>0.062290</td>\n",
       "      <td>0.048008</td>\n",
       "      <td>-0.000508</td>\n",
       "      <td>False</td>\n",
       "      <td>0</td>\n",
       "      <td>0</td>\n",
       "      <td>-0.003248</td>\n",
       "      <td>-0.0</td>\n",
       "      <td>-0.000000</td>\n",
       "      <td>1.002573</td>\n",
       "      <td>1.0</td>\n",
       "    </tr>\n",
       "    <tr>\n",
       "      <th>2018-06-05</th>\n",
       "      <td>0.853461</td>\n",
       "      <td>0.046914</td>\n",
       "      <td>-0.001622</td>\n",
       "      <td>-0.004060</td>\n",
       "      <td>False</td>\n",
       "      <td>-0.001386</td>\n",
       "      <td>-0.004908</td>\n",
       "      <td>0.060955</td>\n",
       "      <td>0.046832</td>\n",
       "      <td>-0.000508</td>\n",
       "      <td>False</td>\n",
       "      <td>0</td>\n",
       "      <td>0</td>\n",
       "      <td>-0.001622</td>\n",
       "      <td>-0.0</td>\n",
       "      <td>-0.000000</td>\n",
       "      <td>1.002573</td>\n",
       "      <td>1.0</td>\n",
       "    </tr>\n",
       "    <tr>\n",
       "      <th>2018-06-06</th>\n",
       "      <td>0.849401</td>\n",
       "      <td>0.038912</td>\n",
       "      <td>-0.004757</td>\n",
       "      <td>-0.001728</td>\n",
       "      <td>False</td>\n",
       "      <td>-0.004060</td>\n",
       "      <td>-0.011036</td>\n",
       "      <td>0.060158</td>\n",
       "      <td>0.046627</td>\n",
       "      <td>-0.000508</td>\n",
       "      <td>False</td>\n",
       "      <td>0</td>\n",
       "      <td>0</td>\n",
       "      <td>-0.004757</td>\n",
       "      <td>-0.0</td>\n",
       "      <td>-0.000000</td>\n",
       "      <td>1.002573</td>\n",
       "      <td>1.0</td>\n",
       "    </tr>\n",
       "    <tr>\n",
       "      <th>2018-06-07</th>\n",
       "      <td>0.847673</td>\n",
       "      <td>0.030235</td>\n",
       "      <td>-0.002034</td>\n",
       "      <td>0.002233</td>\n",
       "      <td>True</td>\n",
       "      <td>-0.001728</td>\n",
       "      <td>-0.019028</td>\n",
       "      <td>0.059088</td>\n",
       "      <td>0.044495</td>\n",
       "      <td>-0.000508</td>\n",
       "      <td>False</td>\n",
       "      <td>0</td>\n",
       "      <td>1</td>\n",
       "      <td>-0.002034</td>\n",
       "      <td>-0.0</td>\n",
       "      <td>-0.000000</td>\n",
       "      <td>1.002573</td>\n",
       "      <td>1.0</td>\n",
       "    </tr>\n",
       "  </tbody>\n",
       "</table>\n",
       "</div>"
      ],
      "text/plain": [
       "               Close  marketRisk   returns    Target  Signal        r1  \\\n",
       "Date                                                                     \n",
       "2018-06-01  0.857633    0.069993  0.002573 -0.002786   False  0.002201   \n",
       "2018-06-04  0.854847    0.041861 -0.003248 -0.001386   False -0.002786   \n",
       "2018-06-05  0.853461    0.046914 -0.001622 -0.004060   False -0.001386   \n",
       "2018-06-06  0.849401    0.038912 -0.004757 -0.001728   False -0.004060   \n",
       "2018-06-07  0.847673    0.030235 -0.002034  0.002233    True -0.001728   \n",
       "\n",
       "                  r2  30marketRisk  7marketRisk  predictPrice  predictSignal  \\\n",
       "Date                                                                           \n",
       "2018-06-01  0.002640      0.064267     0.048216     -0.000508          False   \n",
       "2018-06-04  0.001532      0.062290     0.048008     -0.000508          False   \n",
       "2018-06-05 -0.004908      0.060955     0.046832     -0.000508          False   \n",
       "2018-06-06 -0.011036      0.060158     0.046627     -0.000508          False   \n",
       "2018-06-07 -0.019028      0.059088     0.044495     -0.000508          False   \n",
       "\n",
       "            predictedweight  labelledweight         r  predictedreturns  \\\n",
       "Date                                                                      \n",
       "2018-06-01                0               0  0.002573               0.0   \n",
       "2018-06-04                0               0 -0.003248              -0.0   \n",
       "2018-06-05                0               0 -0.001622              -0.0   \n",
       "2018-06-06                0               0 -0.004757              -0.0   \n",
       "2018-06-07                0               1 -0.002034              -0.0   \n",
       "\n",
       "            labelledreturns  labelledPNL  PNL  \n",
       "Date                                           \n",
       "2018-06-01         0.002573     1.002573  1.0  \n",
       "2018-06-04        -0.000000     1.002573  1.0  \n",
       "2018-06-05        -0.000000     1.002573  1.0  \n",
       "2018-06-06        -0.000000     1.002573  1.0  \n",
       "2018-06-07        -0.000000     1.002573  1.0  "
      ]
     },
     "execution_count": 351,
     "metadata": {
      "tags": []
     },
     "output_type": "execute_result"
    }
   ],
   "source": [
    "## Reading yhat as predictSignal\n",
    "tradeTable= Ana.loc[TRAIN_START:,:].copy()\n",
    "# tradeTable[\"predictSignal\"] = yhat>0.5\n",
    "tradeTable[\"predictPrice\"] = yhat\n",
    "tradeTable[\"predictSignal\"]= tradeTable[\"predictPrice\"]>0\n",
    "tradeTable.head()\n",
    "\n",
    "#Changing Signals to Weights\n",
    "tradeTable['predictedweight'] = np.where(tradeTable['predictSignal'] == True, 1, 0)\n",
    "tradeTable['labelledweight'] = np.where(tradeTable['Signal'] == True, 1, 0)\n",
    "tradeTable.head()\n",
    "\n",
    "# calculating r, %tage change of closing price over previous time step\n",
    "tradeTable['r'] = (tradeTable['Close']- tradeTable['Close'].shift(1))/tradeTable['Close'].shift(1)\n",
    "tradeTable.head()\n",
    "\n",
    "# calculating predicted and labelled trade returns over each time step\n",
    "tradeTable['predictedreturns'] = tradeTable['r']*tradeTable['predictedweight'].shift(1)\n",
    "tradeTable['labelledreturns'] = tradeTable['r']*tradeTable['labelledweight'].shift(1)\n",
    "\n",
    "tradeTable.head()\n",
    "\n",
    "# calculating cumulative predicted and labelled trade returns over each time step\n",
    "PNLTable =  tradeTable.loc[TEST_START:\"2018-12-08\",:].copy()\n",
    "PNLTable[\"labelledPNL\"] =  (1+PNLTable['labelledreturns']).cumprod()\n",
    "PNLTable[\"PNL\"] = (1+PNLTable['predictedreturns']).cumprod()\n",
    "PNLTable.head()"
   ]
  },
  {
   "cell_type": "markdown",
   "metadata": {
    "colab_type": "text",
    "id": "dRS5c8uoj79v"
   },
   "source": [
    "## 3.5 Results"
   ]
  },
  {
   "cell_type": "markdown",
   "metadata": {
    "colab_type": "text",
    "id": "2c-AjZEwWonj"
   },
   "source": [
    "## 3.5.1 Experiment 1 Predict Up or Down with Binary Classification Loss function"
   ]
  },
  {
   "cell_type": "code",
   "execution_count": 299,
   "metadata": {
    "colab": {
     "base_uri": "https://localhost:8080/",
     "height": 490
    },
    "colab_type": "code",
    "id": "-HAdK-tYjixa",
    "outputId": "1fbe20e5-dadb-4506-fc97-c4242d17e0e8"
   },
   "outputs": [
    {
     "name": "stdout",
     "output_type": "stream",
     "text": [
      "Confusion matrix, without normalization\n",
      "[[140   0]\n",
      " [120   0]]\n"
     ]
    },
    {
     "name": "stderr",
     "output_type": "stream",
     "text": [
      "/usr/local/lib/python3.6/dist-packages/sklearn/metrics/classification.py:1143: UndefinedMetricWarning: F-score is ill-defined and being set to 0.0 due to no predicted samples.\n",
      "  'precision', 'predicted', average, warn_for)\n",
      "/usr/local/lib/python3.6/dist-packages/sklearn/metrics/classification.py:1143: UndefinedMetricWarning: Precision is ill-defined and being set to 0.0 due to no predicted samples.\n",
      "  'precision', 'predicted', average, warn_for)\n"
     ]
    },
    {
     "data": {
      "image/png": "[encoded data removed]",
      "text/plain": [
       "<matplotlib.figure.Figure at 0x7f50d116f198>"
      ]
     },
     "metadata": {
      "tags": []
     },
     "output_type": "display_data"
    }
   ],
   "source": [
    "# Confusion Matrix for the Train Period \n",
    "real = tradeTable[\"labelledweight\"]\n",
    "pred = tradeTable[\"predictedweight\"]\n",
    "\n",
    "start = 0\n",
    "end = VALIDATESTART\n",
    "cnf_matrix = confusion_matrix(real[start:end], pred[start:end])\n",
    "accuracy = np.around(accuracy_score(real[start:end], pred[start:end]),2)\n",
    "f1= np.around(f1_score(real[start:end], pred[start:end], average='binary'), 2)\n",
    "prec = np.around(precision_score(real[start:end], pred[start:end], average='binary'), 2)\n",
    "recall = np.around(recall_score(real[start:end], pred[start:end], average='binary'), 2)\n",
    "np.set_printoptions(precision=2)\n",
    "plt.figure(figsize= (5,5))\n",
    "plot_confusion_matrix(cnf_matrix, classes=['no-buy', 'buy'],\n",
    "                      title='Accuracy: ' +str(accuracy)\n",
    "                      + ', F1 Score:' + str(f1)\n",
    "                      + ', Precison:' + str(prec)\n",
    "                      + ', Recall:' + str(recall))\n",
    "plt.show()"
   ]
  },
  {
   "cell_type": "code",
   "execution_count": 300,
   "metadata": {
    "colab": {
     "base_uri": "https://localhost:8080/",
     "height": 490
    },
    "colab_type": "code",
    "id": "pIIxYpAknVSp",
    "outputId": "1275e0ff-4e8b-4648-85a8-705f8d35781d"
   },
   "outputs": [
    {
     "name": "stdout",
     "output_type": "stream",
     "text": [
      "Confusion matrix, without normalization\n",
      "[[50  0]\n",
      " [58  0]]\n"
     ]
    },
    {
     "name": "stderr",
     "output_type": "stream",
     "text": [
      "/usr/local/lib/python3.6/dist-packages/sklearn/metrics/classification.py:1143: UndefinedMetricWarning: F-score is ill-defined and being set to 0.0 due to no predicted samples.\n",
      "  'precision', 'predicted', average, warn_for)\n",
      "/usr/local/lib/python3.6/dist-packages/sklearn/metrics/classification.py:1143: UndefinedMetricWarning: Precision is ill-defined and being set to 0.0 due to no predicted samples.\n",
      "  'precision', 'predicted', average, warn_for)\n"
     ]
    },
    {
     "data": {
      "image/png": "[encoded data removed]",
      "text/plain": [
       "<matplotlib.figure.Figure at 0x7f50d116b320>"
      ]
     },
     "metadata": {
      "tags": []
     },
     "output_type": "display_data"
    }
   ],
   "source": [
    "# Confusion Matrix for the Validate Period \n",
    "real = tradeTable[\"labelledweight\"]\n",
    "pred = tradeTable[\"predictedweight\"]\n",
    "\n",
    "start = VALIDATESTART\n",
    "end = TESTSTART\n",
    "cnf_matrix = confusion_matrix(real[start:end], pred[start:end])\n",
    "accuracy = np.around(accuracy_score(real[start:end], pred[start:end]),2)\n",
    "f1= np.around(f1_score(real[start:end], pred[start:end], average='binary'), 2)\n",
    "prec = np.around(precision_score(real[start:end], pred[start:end], average='binary'), 2)\n",
    "recall = np.around(recall_score(real[start:end], pred[start:end], average='binary'), 2)\n",
    "np.set_printoptions(precision=2)\n",
    "plt.figure(figsize= (5,5))\n",
    "plot_confusion_matrix(cnf_matrix, classes=['no-buy', 'buy'],\n",
    "                      title='Accuracy: ' +str(accuracy)\n",
    "                      + ', F1 Score:' + str(f1)\n",
    "                      + ', Precison:' + str(prec)\n",
    "                      + ', Recall:' + str(recall))\n",
    "plt.show()"
   ]
  },
  {
   "cell_type": "code",
   "execution_count": 301,
   "metadata": {
    "colab": {
     "base_uri": "https://localhost:8080/",
     "height": 490
    },
    "colab_type": "code",
    "id": "XR8lTMs08-Sr",
    "outputId": "f8f0a7c9-bc47-42ac-98ad-0cb151e10560"
   },
   "outputs": [
    {
     "name": "stdout",
     "output_type": "stream",
     "text": [
      "Confusion matrix, without normalization\n",
      "[[64  0]\n",
      " [63  0]]\n"
     ]
    },
    {
     "name": "stderr",
     "output_type": "stream",
     "text": [
      "/usr/local/lib/python3.6/dist-packages/sklearn/metrics/classification.py:1143: UndefinedMetricWarning: F-score is ill-defined and being set to 0.0 due to no predicted samples.\n",
      "  'precision', 'predicted', average, warn_for)\n",
      "/usr/local/lib/python3.6/dist-packages/sklearn/metrics/classification.py:1143: UndefinedMetricWarning: Precision is ill-defined and being set to 0.0 due to no predicted samples.\n",
      "  'precision', 'predicted', average, warn_for)\n"
     ]
    },
    {
     "data": {
      "image/png": "[encoded data removed]",
      "text/plain": [
       "<matplotlib.figure.Figure at 0x7f50d00d6358>"
      ]
     },
     "metadata": {
      "tags": []
     },
     "output_type": "display_data"
    }
   ],
   "source": [
    "# Confusion Matrix for the Test Period \n",
    "real = tradeTable[\"labelledweight\"]\n",
    "pred = tradeTable[\"predictedweight\"]\n",
    "\n",
    "start = TESTSTART\n",
    "# end = \n",
    "cnf_matrix = confusion_matrix(real[start:], pred[start:])\n",
    "accuracy = np.around(accuracy_score(real[start:], pred[start:]),2)\n",
    "f1= np.around(f1_score(real[start:], pred[start:], average='binary'), 2)\n",
    "prec = np.around(precision_score(real[start:], pred[start:], average='binary'), 2)\n",
    "recall = np.around(recall_score(real[start:], pred[start:], average='binary'), 2)\n",
    "np.set_printoptions(precision=2)\n",
    "plt.figure(figsize= (5,5))\n",
    "plot_confusion_matrix(cnf_matrix, classes=['no-buy', 'buy'],\n",
    "                      title='Accuracy: ' +str(accuracy)\n",
    "                      + ', F1 Score:' + str(f1)\n",
    "                      + ', Precison:' + str(prec)\n",
    "                      + ', Recall:' + str(recall))\n",
    "plt.show()"
   ]
  },
  {
   "cell_type": "code",
   "execution_count": 303,
   "metadata": {
    "colab": {
     "base_uri": "https://localhost:8080/",
     "height": 363
    },
    "colab_type": "code",
    "id": "w2Zjktq6nY6G",
    "outputId": "b9b488e8-290d-4408-e683-8275b83b7ccc"
   },
   "outputs": [
    {
     "data": {
      "text/plain": [
       "<matplotlib.axes._subplots.AxesSubplot at 0x7f50cff94208>"
      ]
     },
     "execution_count": 303,
     "metadata": {
      "tags": []
     },
     "output_type": "execute_result"
    },
    {
     "data": {
      "image/png": "[encoded data removed]",
      "text/plain": [
       "<matplotlib.figure.Figure at 0x7f50cff9f438>"
      ]
     },
     "metadata": {
      "tags": []
     },
     "output_type": "display_data"
    }
   ],
   "source": [
    "# PNL Plot for the Test Period\n",
    "PNLTable[\"PNL\"].plot(figsize=(10,5))"
   ]
  },
  {
   "cell_type": "markdown",
   "metadata": {
    "colab_type": "text",
    "id": "N8ot9W76WXEi"
   },
   "source": [
    "## 3.5.2 Experiment 2 Predict real return with Mean Square Error"
   ]
  },
  {
   "cell_type": "code",
   "execution_count": 352,
   "metadata": {
    "colab": {
     "base_uri": "https://localhost:8080/",
     "height": 419
    },
    "colab_type": "code",
    "id": "i9R5P8dtMmn6",
    "outputId": "de97a351-fad3-41b3-d965-6bb42c4f2178"
   },
   "outputs": [
    {
     "name": "stdout",
     "output_type": "stream",
     "text": [
      "Confusion matrix, without normalization\n",
      "[[134   6]\n",
      " [115   5]]\n"
     ]
    },
    {
     "data": {
      "image/png": "[encoded data removed]",
      "text/plain": [
       "<matplotlib.figure.Figure at 0x7f50cc98c6a0>"
      ]
     },
     "metadata": {
      "tags": []
     },
     "output_type": "display_data"
    }
   ],
   "source": [
    "# Confusion Matrix for the Train Period \n",
    "real = tradeTable[\"labelledweight\"]\n",
    "pred = tradeTable[\"predictedweight\"]\n",
    "\n",
    "start = 0\n",
    "end = VALIDATESTART\n",
    "cnf_matrix = confusion_matrix(real[start:end], pred[start:end])\n",
    "accuracy = np.around(accuracy_score(real[start:end], pred[start:end]),2)\n",
    "f1= np.around(f1_score(real[start:end], pred[start:end], average='binary'), 2)\n",
    "prec = np.around(precision_score(real[start:end], pred[start:end], average='binary'), 2)\n",
    "recall = np.around(recall_score(real[start:end], pred[start:end], average='binary'), 2)\n",
    "np.set_printoptions(precision=2)\n",
    "plt.figure(figsize= (5,5))\n",
    "plot_confusion_matrix(cnf_matrix, classes=['no-buy', 'buy'],\n",
    "                      title='Accuracy: ' +str(accuracy)\n",
    "                      + ', F1 Score:' + str(f1)\n",
    "                      + ', Precison:' + str(prec)\n",
    "                      + ', Recall:' + str(recall))\n",
    "plt.show()"
   ]
  },
  {
   "cell_type": "code",
   "execution_count": 353,
   "metadata": {
    "colab": {
     "base_uri": "https://localhost:8080/",
     "height": 419
    },
    "colab_type": "code",
    "id": "kG7uSNJIuHrs",
    "outputId": "b8d2f185-70b4-4ad2-c658-fd1339a9630f"
   },
   "outputs": [
    {
     "name": "stdout",
     "output_type": "stream",
     "text": [
      "Confusion matrix, without normalization\n",
      "[[33 17]\n",
      " [39 19]]\n"
     ]
    },
    {
     "data": {
      "image/png": "[encoded data removed]",
      "text/plain": [
       "<matplotlib.figure.Figure at 0x7f50ca69d898>"
      ]
     },
     "metadata": {
      "tags": []
     },
     "output_type": "display_data"
    }
   ],
   "source": [
    "# Confusion Matrix for the Validate Period \n",
    "real = tradeTable[\"labelledweight\"]\n",
    "pred = tradeTable[\"predictedweight\"]\n",
    "\n",
    "start = VALIDATESTART\n",
    "end = TESTSTART\n",
    "cnf_matrix = confusion_matrix(real[start:end], pred[start:end])\n",
    "accuracy = np.around(accuracy_score(real[start:end], pred[start:end]),2)\n",
    "f1= np.around(f1_score(real[start:end], pred[start:end], average='binary'), 2)\n",
    "prec = np.around(precision_score(real[start:end], pred[start:end], average='binary'), 2)\n",
    "recall = np.around(recall_score(real[start:end], pred[start:end], average='binary'), 2)\n",
    "np.set_printoptions(precision=2)\n",
    "plt.figure(figsize= (5,5))\n",
    "plot_confusion_matrix(cnf_matrix, classes=['no-buy', 'buy'],\n",
    "                      title='Accuracy: ' +str(accuracy)\n",
    "                      + ', F1 Score:' + str(f1)\n",
    "                      + ', Precison:' + str(prec)\n",
    "                      + ', Recall:' + str(recall))\n",
    "plt.show()"
   ]
  },
  {
   "cell_type": "code",
   "execution_count": 354,
   "metadata": {
    "colab": {
     "base_uri": "https://localhost:8080/",
     "height": 419
    },
    "colab_type": "code",
    "id": "UUoPmGeZ_7CS",
    "outputId": "e5a08353-e597-452c-971d-0bcf81fb3c4e"
   },
   "outputs": [
    {
     "name": "stdout",
     "output_type": "stream",
     "text": [
      "Confusion matrix, without normalization\n",
      "[[55  9]\n",
      " [57  6]]\n"
     ]
    },
    {
     "data": {
      "image/png": "[encoded data removed]",
      "text/plain": [
       "<matplotlib.figure.Figure at 0x7f50c953bdd8>"
      ]
     },
     "metadata": {
      "tags": []
     },
     "output_type": "display_data"
    }
   ],
   "source": [
    "# Confusion Matrix for the Test Period \n",
    "real = tradeTable[\"labelledweight\"]\n",
    "pred = tradeTable[\"predictedweight\"]\n",
    "\n",
    "start = TESTSTART\n",
    "# end = \n",
    "cnf_matrix = confusion_matrix(real[start:], pred[start:])\n",
    "accuracy = np.around(accuracy_score(real[start:], pred[start:]),2)\n",
    "f1= np.around(f1_score(real[start:], pred[start:], average='binary'), 2)\n",
    "prec = np.around(precision_score(real[start:], pred[start:], average='binary'), 2)\n",
    "recall = np.around(recall_score(real[start:], pred[start:], average='binary'), 2)\n",
    "np.set_printoptions(precision=2)\n",
    "plt.figure(figsize= (5,5))\n",
    "plot_confusion_matrix(cnf_matrix, classes=['no-buy', 'buy'],\n",
    "                      title='Accuracy: ' +str(accuracy)\n",
    "                      + ', F1 Score:' + str(f1)\n",
    "                      + ', Precison:' + str(prec)\n",
    "                      + ', Recall:' + str(recall))\n",
    "plt.show()"
   ]
  },
  {
   "cell_type": "code",
   "execution_count": 355,
   "metadata": {
    "colab": {
     "base_uri": "https://localhost:8080/",
     "height": 363
    },
    "colab_type": "code",
    "id": "u4t03fAnABHV",
    "outputId": "c6294626-769e-4ae0-ca28-c4bba6c78a1d"
   },
   "outputs": [
    {
     "data": {
      "text/plain": [
       "<matplotlib.axes._subplots.AxesSubplot at 0x7f50cc98c9b0>"
      ]
     },
     "execution_count": 355,
     "metadata": {
      "tags": []
     },
     "output_type": "execute_result"
    },
    {
     "data": {
      "image/png": "[encoded data removed]",
      "text/plain": [
       "<matplotlib.figure.Figure at 0x7f50c9548518>"
      ]
     },
     "metadata": {
      "tags": []
     },
     "output_type": "display_data"
    }
   ],
   "source": [
    "# PNL Plot for the Test Period\n",
    "PNLTable[\"PNL\"].plot(figsize=(10,5))"
   ]
  },
  {
   "cell_type": "code",
   "execution_count": 356,
   "metadata": {
    "colab": {
     "base_uri": "https://localhost:8080/",
     "height": 363
    },
    "colab_type": "code",
    "id": "1smyMtn0qODZ",
    "outputId": "6b78f8e6-ad71-424b-8945-18b9844b2f4c"
   },
   "outputs": [
    {
     "data": {
      "text/plain": [
       "<matplotlib.axes._subplots.AxesSubplot at 0x7f50c94ab0f0>"
      ]
     },
     "execution_count": 356,
     "metadata": {
      "tags": []
     },
     "output_type": "execute_result"
    },
    {
     "data": {
      "image/png": "[encoded data removed]",
      "text/plain": [
       "<matplotlib.figure.Figure at 0x7f50c9456438>"
      ]
     },
     "metadata": {
      "tags": []
     },
     "output_type": "display_data"
    }
   ],
   "source": [
    "# Price Trend for the Test Period\n",
    "tradeTable[\"Close\"][\"2018-06-01\":\"2018-12-08\"].plot(figsize=(10,5))"
   ]
  }
 ],
 "metadata": {
  "colab": {
   "collapsed_sections": [],
   "name": "SentimentTesting on OCBC.ipynb",
   "provenance": [],
   "version": "0.3.2"
  },
  "kernelspec": {
   "display_name": "Python 3",
   "language": "python",
   "name": "python3"
  },
  "language_info": {
   "codemirror_mode": {
    "name": "ipython",
    "version": 3
   },
   "file_extension": ".py",
   "mimetype": "text/x-python",
   "name": "python",
   "nbconvert_exporter": "python",
   "pygments_lexer": "ipython3",
   "version": "3.6.2"
  }
 },
 "nbformat": 4,
 "nbformat_minor": 2
}
